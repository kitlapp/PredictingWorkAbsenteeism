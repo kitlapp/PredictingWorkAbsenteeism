{
 "cells": [
  {
   "cell_type": "code",
   "execution_count": 1,
   "id": "925eae36-6008-46b2-a5fd-d7cfbb5978ff",
   "metadata": {},
   "outputs": [
    {
     "data": {
      "text/plain": [
       "'C:\\\\Users\\\\Adespotos\\\\anaconda3\\\\envs\\\\Absenteeism\\\\python.exe'"
      ]
     },
     "execution_count": 1,
     "metadata": {},
     "output_type": "execute_result"
    }
   ],
   "source": [
    "import sys \n",
    "sys.executable  # Display the path to the Python executable ensuring the correct env\"\t\t\t\t"
   ]
  },
  {
   "cell_type": "markdown",
   "id": "3c929d59-3411-44b0-804c-702b753b18b7",
   "metadata": {},
   "source": [
    "# Import Libraries and Read Data"
   ]
  },
  {
   "cell_type": "code",
   "execution_count": 2,
   "id": "9282f117-ea19-4d01-a483-bf2a13a9c9ee",
   "metadata": {},
   "outputs": [],
   "source": [
    "import numpy as np  # For numerical operations and arrays.\t\n",
    "import pandas as pd  # For data manipulation and analysis.\t\n",
    "import matplotlib.pyplot as plt  # For basic plotting.\t\n",
    "import seaborn as sns  # For enhanced plotting.\t\n",
    "from python_scripts import range_monthdays "
   ]
  },
  {
   "cell_type": "code",
   "execution_count": 3,
   "id": "191f950a-7a8e-4f17-b142-c875746211c1",
   "metadata": {},
   "outputs": [],
   "source": [
    "# Read CSV Datafile to a DataFrame:\n",
    "new_raw_data = pd.read_csv('unseen_original.csv')\n",
    "\n",
    "# Rename the DataFrame to avoid missing variable errors in the subsequent code stages:\n",
    "raw_data = new_raw_data.copy()"
   ]
  },
  {
   "cell_type": "code",
   "execution_count": 4,
   "id": "04627c08-7828-4921-8412-695314e74805",
   "metadata": {},
   "outputs": [],
   "source": [
    "pd.options.display.max_columns = None"
   ]
  },
  {
   "cell_type": "markdown",
   "id": "fd6d3e89-de1b-4289-9993-83f8274db5c1",
   "metadata": {},
   "source": [
    "# New Data Preprocessing"
   ]
  },
  {
   "cell_type": "markdown",
   "id": "236098df-20aa-44fb-8e43-77425c2efc92",
   "metadata": {},
   "source": [
    "We 'll delete all text and comments as they are exactly the same with the 'absenteeism_data_cleaning.ipynb'."
   ]
  },
  {
   "cell_type": "markdown",
   "id": "20c9da77-ad14-45b6-81c1-20d30556d5d4",
   "metadata": {},
   "source": [
    "## New Data Date Column"
   ]
  },
  {
   "cell_type": "code",
   "execution_count": 5,
   "id": "1681e953-bbb8-450f-8bad-cd52cab92096",
   "metadata": {},
   "outputs": [],
   "source": [
    "df_date = raw_data.copy()"
   ]
  },
  {
   "cell_type": "code",
   "execution_count": 6,
   "id": "3de71282-4921-47f4-90ea-8f34f5f92b06",
   "metadata": {},
   "outputs": [],
   "source": [
    "df_date['Date'] = pd.to_datetime(df_date['Date'], format=\"%d/%m/%Y\")\n",
    "df_date['Weekday'] = df_date['Date'].dt.weekday.apply(lambda x: x + 1 if x < 5 else 6) \n",
    "df_date['Month'] = df_date['Date'].dt.month \n",
    "df_date['Monthday'] = df_date['Date'].dt.day\n",
    "df_date['Monthday'] = df_date['Monthday'].apply(range_monthdays)"
   ]
  },
  {
   "cell_type": "code",
   "execution_count": 7,
   "id": "4c114bf6-2205-4228-ad42-e948796f25d3",
   "metadata": {},
   "outputs": [],
   "source": [
    "df_date = df_date.drop(columns='Date', axis=1)"
   ]
  },
  {
   "cell_type": "markdown",
   "id": "8e687e4e-724d-4458-8eda-87ddcd23a651",
   "metadata": {},
   "source": [
    "## New Data ID Column"
   ]
  },
  {
   "cell_type": "code",
   "execution_count": 8,
   "id": "cf56f94a-8ea1-4bdd-bd68-760046db43e3",
   "metadata": {},
   "outputs": [],
   "source": [
    "df_id = df_date.copy()"
   ]
  },
  {
   "cell_type": "code",
   "execution_count": 9,
   "id": "9b0f113b-7d45-4a1d-a018-c84b97c022bb",
   "metadata": {},
   "outputs": [],
   "source": [
    "df_id = df_id.drop(columns='ID', axis=1) "
   ]
  },
  {
   "cell_type": "markdown",
   "id": "70c3405d-1633-4200-9976-48fbff3f3d19",
   "metadata": {},
   "source": [
    "## New Data Reason for Absence Column"
   ]
  },
  {
   "cell_type": "code",
   "execution_count": 10,
   "id": "378fbe5e-31e6-4aa9-94a6-9692e06b4015",
   "metadata": {},
   "outputs": [],
   "source": [
    "df_reason_for_absence = df_id.copy()"
   ]
  },
  {
   "cell_type": "code",
   "execution_count": 11,
   "id": "1ddbff58-1f15-4bbd-ab01-fcd10d7c2fb8",
   "metadata": {},
   "outputs": [
    {
     "data": {
      "text/plain": [
       "array([1])"
      ]
     },
     "execution_count": 11,
     "metadata": {},
     "output_type": "execute_result"
    }
   ],
   "source": [
    "reason_for_absence = pd.get_dummies(df_reason_for_absence['Reason for Absence']).astype(int)\n",
    "reason_for_absence.sum(axis=1).unique()  "
   ]
  },
  {
   "cell_type": "code",
   "execution_count": 12,
   "id": "75822d39-2441-4c96-ad73-fd18891d2a9a",
   "metadata": {},
   "outputs": [],
   "source": [
    "df_reason_for_absence = df_reason_for_absence.drop(columns='Reason for Absence', axis=1)"
   ]
  },
  {
   "cell_type": "code",
   "execution_count": 13,
   "id": "c397496f-a6f1-4484-b12b-5ccd6dbc3ea6",
   "metadata": {},
   "outputs": [],
   "source": [
    "disease = reason_for_absence.loc[:, 0:14].sum(axis=1) \n",
    "pregnancy = reason_for_absence.loc[:, 15:17].sum(axis=1) \n",
    "other_factors = reason_for_absence.loc[:, 18:21].sum(axis=1) \n",
    "not_major_health_issues = reason_for_absence.loc[:, 22:28].sum(axis=1)  "
   ]
  },
  {
   "cell_type": "code",
   "execution_count": 14,
   "id": "914b4340-309a-4933-8dc0-82e2e5d76a60",
   "metadata": {},
   "outputs": [],
   "source": [
    "df_reason_for_absence = pd.concat(\n",
    "    [df_reason_for_absence, disease, pregnancy, other_factors, not_major_health_issues], axis=1)"
   ]
  },
  {
   "cell_type": "code",
   "execution_count": 15,
   "id": "7d7cfca1-4fb7-47f8-bd8a-14a449ebcd53",
   "metadata": {},
   "outputs": [],
   "source": [
    "corrected_column_names = ['Transportation Expense', 'Distance to Work', 'Age', 'Daily Work Load Average', \n",
    "                          'Body Mass Index', 'Education', 'Children', 'Pets', 'Weekday Absence Occurred', \n",
    "                          'Month Absence Occurred', 'Monthday Range Absence Occurred', 'Disease Absence', \n",
    "                          'Pregnancy Absence', 'Other Factor Absence', 'Not-Major Issue Absence']\n",
    "df_reason_for_absence.columns = corrected_column_names"
   ]
  },
  {
   "cell_type": "code",
   "execution_count": 16,
   "id": "b0728aea-5beb-4bd8-96a0-3669058d3038",
   "metadata": {},
   "outputs": [],
   "source": [
    "df_reason_for_absence = df_reason_for_absence.drop(columns='Pregnancy Absence')  "
   ]
  },
  {
   "cell_type": "markdown",
   "id": "7aa996bc-9ea1-4483-bcad-25c8e65b6295",
   "metadata": {},
   "source": [
    "## New Data Education Column"
   ]
  },
  {
   "cell_type": "code",
   "execution_count": 17,
   "id": "cd22d4f8-a50b-458a-a9f7-729c5a32a6f4",
   "metadata": {},
   "outputs": [],
   "source": [
    "df_education = df_reason_for_absence.copy()"
   ]
  },
  {
   "cell_type": "code",
   "execution_count": 18,
   "id": "af538f5c-6d3a-43df-8da1-7152b76b5573",
   "metadata": {},
   "outputs": [],
   "source": [
    "df_education['Education'] = df_education['Education'].apply(lambda x: 0 if x==1 else 1) "
   ]
  },
  {
   "cell_type": "markdown",
   "id": "2eab064f-3c18-433a-9539-61fe2b05b515",
   "metadata": {},
   "source": [
    "## New Data Children Column"
   ]
  },
  {
   "cell_type": "code",
   "execution_count": 19,
   "id": "ce1614a6-fa34-4a16-a9cc-48e55836e2d4",
   "metadata": {},
   "outputs": [],
   "source": [
    "df_children = df_education.copy()"
   ]
  },
  {
   "cell_type": "code",
   "execution_count": 20,
   "id": "d7e15dfc-3b47-41df-935e-bd009c3e663a",
   "metadata": {},
   "outputs": [],
   "source": [
    "df_children['Children'] = df_children['Children'].apply(lambda x: x if x <= 2 else 3)\n",
    "children_dummies = pd.get_dummies(df_children['Children'], drop_first=True).astype(int) "
   ]
  },
  {
   "cell_type": "code",
   "execution_count": 21,
   "id": "19964c59-85bc-4247-8dcb-f23e6ea50bda",
   "metadata": {
    "scrolled": true
   },
   "outputs": [],
   "source": [
    "children_dummies['Has 1 Child'] = children_dummies[1]\n",
    "children_dummies['Has 2 Children'] = children_dummies[2]\n",
    "children_dummies['Has More than 2 Children'] = children_dummies[3]\n",
    "children_dummies = children_dummies.drop(columns=[1, 2, 3], axis=1)"
   ]
  },
  {
   "cell_type": "code",
   "execution_count": 22,
   "id": "cd8e90c2-25bd-4efb-bd3e-dc24c2790ee1",
   "metadata": {},
   "outputs": [],
   "source": [
    "df_children = df_children.drop(columns='Children', axis=1)"
   ]
  },
  {
   "cell_type": "markdown",
   "id": "a1315efa-b3bd-4884-a09c-ca364ec4f8c8",
   "metadata": {},
   "source": [
    "## New Data Pet Column"
   ]
  },
  {
   "cell_type": "code",
   "execution_count": 23,
   "id": "dd76de1a-242e-49f4-a280-c61714308504",
   "metadata": {},
   "outputs": [],
   "source": [
    "df_pet = df_children.copy()"
   ]
  },
  {
   "cell_type": "code",
   "execution_count": 24,
   "id": "a47a5954-bb6c-4fd1-8b07-a1850c7554c3",
   "metadata": {},
   "outputs": [],
   "source": [
    "df_pet['Pets'] = df_pet['Pets'].apply(lambda x: x if x <= 2 else 3)\n",
    "pet_dummies = pd.get_dummies(df_pet['Pets'], drop_first=True).astype(int) "
   ]
  },
  {
   "cell_type": "code",
   "execution_count": 25,
   "id": "1be909b5-88c4-4d64-a4b1-76f4801fb281",
   "metadata": {},
   "outputs": [],
   "source": [
    "pet_dummies['Has 1 Pet'] = pet_dummies[1]\n",
    "pet_dummies['Has 2 Pets'] = pet_dummies[2]\n",
    "pet_dummies['Has More than 2 Pets'] = pet_dummies[3]\n",
    "pet_dummies = pet_dummies.drop(columns=[1, 2, 3], axis=1)"
   ]
  },
  {
   "cell_type": "code",
   "execution_count": 26,
   "id": "03178aa7-465a-46cb-84a5-21729237354b",
   "metadata": {},
   "outputs": [],
   "source": [
    "df_pet = df_pet.drop(columns='Pets', axis=1)"
   ]
  },
  {
   "cell_type": "markdown",
   "id": "052a024e-a883-4cd2-b6b9-1598122ee9d6",
   "metadata": {},
   "source": [
    "# New Data Final DataFrame"
   ]
  },
  {
   "cell_type": "code",
   "execution_count": 27,
   "id": "ccc779a2-827e-4fbb-b378-cfc1af46d167",
   "metadata": {},
   "outputs": [],
   "source": [
    "df_final = pd.concat(\n",
    "    [df_pet, children_dummies, pet_dummies], axis=1)"
   ]
  },
  {
   "cell_type": "code",
   "execution_count": 28,
   "id": "242660ea-84dd-4bfe-b46e-c365d5823b39",
   "metadata": {},
   "outputs": [],
   "source": [
    "reordered_cols_list = ['Month Absence Occurred', 'Monthday Range Absence Occurred', 'Weekday Absence Occurred', \n",
    "                       'Disease Absence', 'Other Factor Absence', 'Not-Major Issue Absence', 'Education', \n",
    "                       'Has 1 Child', 'Has 2 Children', 'Has More than 2 Children', 'Has 1 Pet', 'Has 2 Pets', \n",
    "                       'Has More than 2 Pets', 'Transportation Expense', 'Distance to Work', 'Age', \n",
    "                       'Daily Work Load Average', 'Body Mass Index']\n",
    "df_final = df_final[reordered_cols_list]"
   ]
  },
  {
   "cell_type": "code",
   "execution_count": 29,
   "id": "10c63ab9-6e74-4cc5-b8db-6e4cbd84b57c",
   "metadata": {},
   "outputs": [],
   "source": [
    "# We need this code to meet the backward elimination we applied on the 'absenteeism_model.ipynb':\n",
    "df_final = df_final.drop(columns=['Month Absence Occurred', 'Monthday Range Absence Occurred', 'Has 1 Child', 'Has 1 Pet',\n",
    "                                                          'Daily Work Load Average', 'Distance to Work'], axis=1)"
   ]
  },
  {
   "cell_type": "markdown",
   "id": "c04dc956-4680-4258-bc56-72350c0cba57",
   "metadata": {},
   "source": [
    "# Export New Data Cleaned DataFrame"
   ]
  },
  {
   "cell_type": "code",
   "execution_count": 30,
   "id": "a44c3c5f-4520-4c72-b6c2-3922bfe8a80e",
   "metadata": {},
   "outputs": [],
   "source": [
    "df_final.to_csv('unseen_cleaned.csv', index=False)"
   ]
  }
 ],
 "metadata": {
  "kernelspec": {
   "display_name": "Python 3 (ipykernel)",
   "language": "python",
   "name": "python3"
  },
  "language_info": {
   "codemirror_mode": {
    "name": "ipython",
    "version": 3
   },
   "file_extension": ".py",
   "mimetype": "text/x-python",
   "name": "python",
   "nbconvert_exporter": "python",
   "pygments_lexer": "ipython3",
   "version": "3.12.4"
  }
 },
 "nbformat": 4,
 "nbformat_minor": 5
}
